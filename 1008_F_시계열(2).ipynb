{
 "cells": [
  {
   "cell_type": "markdown",
   "id": "9f6c990d",
   "metadata": {},
   "source": [
    "### do it pandas - 12. 시계열 데이터"
   ]
  },
  {
   "cell_type": "markdown",
   "id": "619fd2b8",
   "metadata": {},
   "source": [
    "#### 실습3. 테슬라 주식 데이터로 시간 계산하기 (255p~)"
   ]
  },
  {
   "cell_type": "code",
   "execution_count": 1,
   "id": "81661bf1",
   "metadata": {},
   "outputs": [
    {
     "name": "stdout",
     "output_type": "stream",
     "text": [
      "Requirement already satisfied: pandas-datareader in c:\\users\\owner\\anaconda3\\lib\\site-packages (0.10.0)\n",
      "Requirement already satisfied: pandas>=0.23 in c:\\users\\owner\\anaconda3\\lib\\site-packages (from pandas-datareader) (1.2.4)\n",
      "Requirement already satisfied: requests>=2.19.0 in c:\\users\\owner\\anaconda3\\lib\\site-packages (from pandas-datareader) (2.25.1)\n",
      "Requirement already satisfied: lxml in c:\\users\\owner\\anaconda3\\lib\\site-packages (from pandas-datareader) (4.6.3)\n",
      "Requirement already satisfied: pytz>=2017.3 in c:\\users\\owner\\anaconda3\\lib\\site-packages (from pandas>=0.23->pandas-datareader) (2021.1)\n",
      "Requirement already satisfied: python-dateutil>=2.7.3 in c:\\users\\owner\\anaconda3\\lib\\site-packages (from pandas>=0.23->pandas-datareader) (2.8.1)\n",
      "Requirement already satisfied: numpy>=1.16.5 in c:\\users\\owner\\anaconda3\\lib\\site-packages (from pandas>=0.23->pandas-datareader) (1.20.1)\n",
      "Requirement already satisfied: six>=1.5 in c:\\users\\owner\\anaconda3\\lib\\site-packages (from python-dateutil>=2.7.3->pandas>=0.23->pandas-datareader) (1.15.0)\n",
      "Requirement already satisfied: urllib3<1.27,>=1.21.1 in c:\\users\\owner\\anaconda3\\lib\\site-packages (from requests>=2.19.0->pandas-datareader) (1.26.4)\n",
      "Requirement already satisfied: idna<3,>=2.5 in c:\\users\\owner\\anaconda3\\lib\\site-packages (from requests>=2.19.0->pandas-datareader) (2.10)\n",
      "Requirement already satisfied: certifi>=2017.4.17 in c:\\users\\owner\\anaconda3\\lib\\site-packages (from requests>=2.19.0->pandas-datareader) (2020.12.5)\n",
      "Requirement already satisfied: chardet<5,>=3.0.2 in c:\\users\\owner\\anaconda3\\lib\\site-packages (from requests>=2.19.0->pandas-datareader) (4.0.0)\n"
     ]
    }
   ],
   "source": [
    "!pip install pandas-datareader"
   ]
  },
  {
   "cell_type": "code",
   "execution_count": 8,
   "id": "cb4187ef",
   "metadata": {},
   "outputs": [
    {
     "name": "stdout",
     "output_type": "stream",
     "text": [
      "              Open    High     Low   Close      Volume  ExDividend  \\\n",
      "Date                                                                 \n",
      "2018-03-27  304.00  304.27  277.18  279.18  13696168.0         0.0   \n",
      "2018-03-26  307.34  307.59  291.36  304.18   8324639.0         0.0   \n",
      "2018-03-23  311.25  311.61  300.45  301.54   6600538.0         0.0   \n",
      "2018-03-22  313.89  318.82  308.18  309.10   4914307.0         0.0   \n",
      "2018-03-21  310.25  322.44  310.19  316.53   5927881.0         0.0   \n",
      "\n",
      "            SplitRatio  AdjOpen  AdjHigh  AdjLow  AdjClose   AdjVolume  \n",
      "Date                                                                    \n",
      "2018-03-27         1.0   304.00   304.27  277.18    279.18  13696168.0  \n",
      "2018-03-26         1.0   307.34   307.59  291.36    304.18   8324639.0  \n",
      "2018-03-23         1.0   311.25   311.61  300.45    301.54   6600538.0  \n",
      "2018-03-22         1.0   313.89   318.82  308.18    309.10   4914307.0  \n",
      "2018-03-21         1.0   310.25   322.44  310.19    316.53   5927881.0  \n"
     ]
    }
   ],
   "source": [
    "import pandas as pd\n",
    "\n",
    "pd.core.common.is_list_like = pd.api.types.is_list_like\n",
    "import pandas_datareader as pdr\n",
    "\n",
    "#tesla에는 데이터프레임이 저장됩니다.\n",
    "tesla = pdr.get_data_quandl('TSLA',api_key='Ws4sCw2HY8m67vqDrMpd')\n",
    "\n",
    "#tesla에는 저장된 데이터프레임을 파일로 저장합니다.\n",
    "tesla.to_csv('./data/tesla_stock_quandl.csv')\n",
    "print(tesla.head())"
   ]
  },
  {
   "cell_type": "code",
   "execution_count": 9,
   "id": "a8984870",
   "metadata": {},
   "outputs": [
    {
     "name": "stdout",
     "output_type": "stream",
     "text": [
      "<class 'pandas.core.frame.DataFrame'>\n",
      "RangeIndex: 367 entries, 0 to 366\n",
      "Data columns (total 13 columns):\n",
      " #   Column      Non-Null Count  Dtype         \n",
      "---  ------      --------------  -----         \n",
      " 0   Date        367 non-null    datetime64[ns]\n",
      " 1   Open        367 non-null    float64       \n",
      " 2   High        367 non-null    float64       \n",
      " 3   Low         367 non-null    float64       \n",
      " 4   Close       367 non-null    float64       \n",
      " 5   Volume      367 non-null    float64       \n",
      " 6   ExDividend  367 non-null    float64       \n",
      " 7   SplitRatio  367 non-null    float64       \n",
      " 8   AdjOpen     367 non-null    float64       \n",
      " 9   AdjHigh     367 non-null    float64       \n",
      " 10  AdjLow      367 non-null    float64       \n",
      " 11  AdjClose    367 non-null    float64       \n",
      " 12  AdjVolume   367 non-null    float64       \n",
      "dtypes: datetime64[ns](1), float64(12)\n",
      "memory usage: 37.4 KB\n",
      "None\n"
     ]
    }
   ],
   "source": [
    "tesla = pd.read_csv('./data/tesla_stock_quandl.csv', parse_dates=[0]) \n",
    "#parse_dates(): datetime 형태로 변환할지 여부 \n",
    "\n",
    "print(tesla.info())"
   ]
  },
  {
   "cell_type": "code",
   "execution_count": 19,
   "id": "2180f4e5",
   "metadata": {},
   "outputs": [
    {
     "name": "stdout",
     "output_type": "stream",
     "text": [
      "                 Date    Open      High     Low   Close      Volume  \\\n",
      "Date                                                                  \n",
      "2016-10-31 2016-10-31  202.49  202.4900  195.81  197.73   4692273.0   \n",
      "2016-10-28 2016-10-28  204.00  205.3200  199.83  199.97   4280141.0   \n",
      "2016-10-27 2016-10-27  211.34  213.7000  201.65  204.01  13093744.0   \n",
      "2016-10-26 2016-10-26  201.00  203.1900  200.10  202.24   5632841.0   \n",
      "2016-10-25 2016-10-25  202.90  204.6900  201.20  202.34   2445014.0   \n",
      "2016-10-24 2016-10-24  201.00  203.9452  200.25  202.76   2751562.0   \n",
      "2016-10-21 2016-10-21  198.60  201.5700  197.41  200.09   2943402.0   \n",
      "2016-10-20 2016-10-20  202.12  203.0000  197.05  199.10   5072877.0   \n",
      "2016-10-19 2016-10-19  199.74  206.6600  198.06  203.56   6991183.0   \n",
      "2016-10-18 2016-10-18  195.99  199.4700  193.26  199.10   5680475.0   \n",
      "2016-10-17 2016-10-17  197.05  198.3900  192.00  193.96   4554080.0   \n",
      "2016-10-14 2016-10-14  200.66  201.4300  196.30  196.51   4269850.0   \n",
      "2016-10-13 2016-10-13  200.50  200.8950  197.05  200.24   2495413.0   \n",
      "2016-10-12 2016-10-12  200.95  203.8800  200.42  201.51   1970689.0   \n",
      "2016-10-11 2016-10-11  201.85  202.2000  198.31  200.10   2328422.0   \n",
      "2016-10-10 2016-10-10  201.35  204.1400  199.66  200.95   3316297.0   \n",
      "\n",
      "            ExDividend  SplitRatio  AdjOpen   AdjHigh  AdjLow  AdjClose  \\\n",
      "Date                                                                      \n",
      "2016-10-31         0.0         1.0   202.49  202.4900  195.81    197.73   \n",
      "2016-10-28         0.0         1.0   204.00  205.3200  199.83    199.97   \n",
      "2016-10-27         0.0         1.0   211.34  213.7000  201.65    204.01   \n",
      "2016-10-26         0.0         1.0   201.00  203.1900  200.10    202.24   \n",
      "2016-10-25         0.0         1.0   202.90  204.6900  201.20    202.34   \n",
      "2016-10-24         0.0         1.0   201.00  203.9452  200.25    202.76   \n",
      "2016-10-21         0.0         1.0   198.60  201.5700  197.41    200.09   \n",
      "2016-10-20         0.0         1.0   202.12  203.0000  197.05    199.10   \n",
      "2016-10-19         0.0         1.0   199.74  206.6600  198.06    203.56   \n",
      "2016-10-18         0.0         1.0   195.99  199.4700  193.26    199.10   \n",
      "2016-10-17         0.0         1.0   197.05  198.3900  192.00    193.96   \n",
      "2016-10-14         0.0         1.0   200.66  201.4300  196.30    196.51   \n",
      "2016-10-13         0.0         1.0   200.50  200.8950  197.05    200.24   \n",
      "2016-10-12         0.0         1.0   200.95  203.8800  200.42    201.51   \n",
      "2016-10-11         0.0         1.0   201.85  202.2000  198.31    200.10   \n",
      "2016-10-10         0.0         1.0   201.35  204.1400  199.66    200.95   \n",
      "\n",
      "             AdjVolume  \n",
      "Date                    \n",
      "2016-10-31   4692273.0  \n",
      "2016-10-28   4280141.0  \n",
      "2016-10-27  13093744.0  \n",
      "2016-10-26   5632841.0  \n",
      "2016-10-25   2445014.0  \n",
      "2016-10-24   2751562.0  \n",
      "2016-10-21   2943402.0  \n",
      "2016-10-20   5072877.0  \n",
      "2016-10-19   6991183.0  \n",
      "2016-10-18   5680475.0  \n",
      "2016-10-17   4554080.0  \n",
      "2016-10-14   4269850.0  \n",
      "2016-10-13   2495413.0  \n",
      "2016-10-12   1970689.0  \n",
      "2016-10-11   2328422.0  \n",
      "2016-10-10   3316297.0  \n"
     ]
    }
   ],
   "source": [
    "print(tesla.loc[(tesla.Date.dt.year == 2016) & (tesla.Date.dt.month == 10)])\n",
    "# 자료가 최신화 되어서 2010, 10 데이터는 없다.\n",
    "# 대신 2016, 10으로 바꾸어서 진행했다."
   ]
  },
  {
   "cell_type": "code",
   "execution_count": 13,
   "id": "b571149c",
   "metadata": {},
   "outputs": [
    {
     "name": "stdout",
     "output_type": "stream",
     "text": [
      "DatetimeIndex(['2018-03-27', '2018-03-26', '2018-03-23', '2018-03-22',\n",
      "               '2018-03-21', '2018-03-20', '2018-03-19', '2018-03-16',\n",
      "               '2018-03-15', '2018-03-14',\n",
      "               ...\n",
      "               '2016-10-21', '2016-10-20', '2016-10-19', '2016-10-18',\n",
      "               '2016-10-17', '2016-10-14', '2016-10-13', '2016-10-12',\n",
      "               '2016-10-11', '2016-10-10'],\n",
      "              dtype='datetime64[ns]', name='Date', length=367, freq=None)\n"
     ]
    }
   ],
   "source": [
    "# datetime 오브젝트를 인덱스로 설정해 데이터 추출하기\n",
    "\n",
    "tesla.index = tesla['Date']\n",
    "print(tesla.index)"
   ]
  },
  {
   "cell_type": "code",
   "execution_count": 23,
   "id": "6ed27f58",
   "metadata": {},
   "outputs": [
    {
     "name": "stdout",
     "output_type": "stream",
     "text": [
      "                 Date    Open    High       Low   Close\n",
      "Date                                                   \n",
      "2016-12-30 2016-12-30  216.30  217.50  211.6800  213.69\n",
      "2016-12-29 2016-12-29  218.56  219.20  214.1225  214.68\n",
      "2016-12-28 2016-12-28  221.53  223.80  217.2000  219.74\n",
      "2016-12-27 2016-12-27  214.88  222.25  214.4200  219.53\n",
      "2016-12-23 2016-12-23  208.00  213.45  207.7100  213.34\n"
     ]
    },
    {
     "name": "stderr",
     "output_type": "stream",
     "text": [
      "<ipython-input-23-b64c76cb4795>:1: FutureWarning: Indexing a DataFrame with a datetimelike index using a single string to slice the rows, like `frame[string]`, is deprecated and will be removed in a future version. Use `frame.loc[string]` instead.\n",
      "  print(tesla['2016'].iloc[:5,:5])\n"
     ]
    }
   ],
   "source": [
    "print(tesla['2016'].iloc[:5,:5])\n",
    "# 2015년 자료가 없어서 2016으로 대신"
   ]
  },
  {
   "cell_type": "code",
   "execution_count": 25,
   "id": "34bfd5d6",
   "metadata": {},
   "outputs": [
    {
     "name": "stdout",
     "output_type": "stream",
     "text": [
      "                 Date     Open      High       Low   Close\n",
      "Date                                                      \n",
      "2017-06-30 2017-06-30  363.710  366.7674  359.6187  361.61\n",
      "2017-06-29 2017-06-29  370.610  371.0000  354.1000  360.75\n",
      "2017-06-28 2017-06-28  366.680  371.7400  362.5200  371.24\n",
      "2017-06-27 2017-06-27  376.400  376.4000  362.0200  362.37\n",
      "2017-06-26 2017-06-26  386.690  386.9500  373.1000  377.49\n",
      "2017-06-23 2017-06-23  382.450  386.9900  379.3450  383.45\n",
      "2017-06-22 2017-06-22  377.990  385.0000  373.5700  382.61\n",
      "2017-06-21 2017-06-21  374.350  376.9900  368.0200  376.40\n",
      "2017-06-20 2017-06-20  376.670  378.8800  369.7300  372.24\n",
      "2017-06-19 2017-06-19  375.000  376.7000  367.8000  369.80\n",
      "2017-06-16 2017-06-16  377.975  378.0100  370.1000  371.40\n",
      "2017-06-15 2017-06-15  372.500  375.4600  366.4900  375.34\n",
      "2017-06-14 2017-06-14  381.085  384.2500  376.3100  380.66\n",
      "2017-06-13 2017-06-13  367.620  376.0000  366.6100  375.95\n",
      "2017-06-12 2017-06-12  357.990  364.5000  350.6200  359.01\n",
      "2017-06-09 2017-06-09  374.420  376.8700  354.8000  357.32\n",
      "2017-06-08 2017-06-08  363.750  371.9000  360.2200  370.00\n",
      "2017-06-07 2017-06-07  356.340  360.5000  355.1400  359.65\n",
      "2017-06-06 2017-06-06  344.700  359.4929  339.9700  352.85\n",
      "2017-06-05 2017-06-05  338.500  348.4400  334.2100  347.32\n",
      "2017-06-02 2017-06-02  339.770  342.8800  335.9300  339.85\n",
      "2017-06-01 2017-06-01  344.000  344.8800  337.2900  340.37\n"
     ]
    },
    {
     "name": "stderr",
     "output_type": "stream",
     "text": [
      "<ipython-input-25-e774c7cedfe2>:1: FutureWarning: Indexing a DataFrame with a datetimelike index using a single string to slice the rows, like `frame[string]`, is deprecated and will be removed in a future version. Use `frame.loc[string]` instead.\n",
      "  print(tesla['2017-06'].iloc[:,:5])\n"
     ]
    }
   ],
   "source": [
    "print(tesla['2017-06'].iloc[:,:5])\n",
    "# 2010-06 자료가 없어서 2017-06으로 바꿈"
   ]
  },
  {
   "cell_type": "code",
   "execution_count": 26,
   "id": "4caefd48",
   "metadata": {},
   "outputs": [
    {
     "name": "stdout",
     "output_type": "stream",
     "text": [
      "                 Date    Open    High     Low   Close      Volume  ExDividend  \\\n",
      "Date                                                                            \n",
      "2018-03-27 2018-03-27  304.00  304.27  277.18  279.18  13696168.0         0.0   \n",
      "2018-03-26 2018-03-26  307.34  307.59  291.36  304.18   8324639.0         0.0   \n",
      "2018-03-23 2018-03-23  311.25  311.61  300.45  301.54   6600538.0         0.0   \n",
      "2018-03-22 2018-03-22  313.89  318.82  308.18  309.10   4914307.0         0.0   \n",
      "2018-03-21 2018-03-21  310.25  322.44  310.19  316.53   5927881.0         0.0   \n",
      "\n",
      "            SplitRatio  AdjOpen  AdjHigh  AdjLow  AdjClose   AdjVolume  \\\n",
      "Date                                                                     \n",
      "2018-03-27         1.0   304.00   304.27  277.18    279.18  13696168.0   \n",
      "2018-03-26         1.0   307.34   307.59  291.36    304.18   8324639.0   \n",
      "2018-03-23         1.0   311.25   311.61  300.45    301.54   6600538.0   \n",
      "2018-03-22         1.0   313.89   318.82  308.18    309.10   4914307.0   \n",
      "2018-03-21         1.0   310.25   322.44  310.19    316.53   5927881.0   \n",
      "\n",
      "           ref_date  \n",
      "Date                 \n",
      "2018-03-27 533 days  \n",
      "2018-03-26 532 days  \n",
      "2018-03-23 529 days  \n",
      "2018-03-22 528 days  \n",
      "2018-03-21 527 days  \n"
     ]
    }
   ],
   "source": [
    "# 시간 간격을 인덱스로 지정해 데이터 추출하기\n",
    "\n",
    "tesla['ref_date'] = tesla['Date'] - tesla['Date'].min() # Date열의 최솟값을 빼서 ref_date에 추가\n",
    "print(tesla.head())\n"
   ]
  },
  {
   "cell_type": "code",
   "execution_count": 27,
   "id": "8d447e68",
   "metadata": {},
   "outputs": [
    {
     "name": "stdout",
     "output_type": "stream",
     "text": [
      "               Date    Open    High     Low   Close\n",
      "ref_date                                           \n",
      "533 days 2018-03-27  304.00  304.27  277.18  279.18\n",
      "532 days 2018-03-26  307.34  307.59  291.36  304.18\n",
      "529 days 2018-03-23  311.25  311.61  300.45  301.54\n",
      "528 days 2018-03-22  313.89  318.82  308.18  309.10\n",
      "527 days 2018-03-21  310.25  322.44  310.19  316.53\n"
     ]
    }
   ],
   "source": [
    "tesla.index = tesla['ref_date'] # 시간간격(ref_date)\n",
    "print(tesla.iloc[:5,:5])"
   ]
  },
  {
   "cell_type": "code",
   "execution_count": 29,
   "id": "b9f71931",
   "metadata": {},
   "outputs": [
    {
     "name": "stdout",
     "output_type": "stream",
     "text": [
      "               Date    Open     High     Low   Close\n",
      "ref_date                                            \n",
      "4 days   2016-10-14  200.66  201.430  196.30  196.51\n",
      "3 days   2016-10-13  200.50  200.895  197.05  200.24\n",
      "2 days   2016-10-12  200.95  203.880  200.42  201.51\n",
      "1 days   2016-10-11  201.85  202.200  198.31  200.10\n",
      "0 days   2016-10-10  201.35  204.140  199.66  200.95\n"
     ]
    }
   ],
   "source": [
    "print(tesla['5 days':].iloc[:5,:5]) # 데이터 수집 이후 최초 5일의 데이터"
   ]
  },
  {
   "cell_type": "code",
   "execution_count": 32,
   "id": "060c72bd",
   "metadata": {},
   "outputs": [
    {
     "name": "stdout",
     "output_type": "stream",
     "text": [
      "        Date  Day  Cases_Guinea  Cases_Liberia  Cases_SierraLeone\n",
      "0 2015-01-05  289        2776.0            NaN            10030.0\n",
      "1 2015-01-04  288        2775.0            NaN             9780.0\n",
      "2 2015-01-03  287        2769.0         8166.0             9722.0\n",
      "3 2015-01-02  286           NaN         8157.0                NaN\n",
      "4 2014-12-31  284        2730.0         8115.0             9633.0\n"
     ]
    }
   ],
   "source": [
    "# 시간 범위 생성해 인덱스로 지정하기\n",
    "# 특정 일에 투락된 데이터도 포함시켜 데이터를 살펴볼 수 있다.\n",
    "\n",
    "ebola = pd.read_csv('./data/country_timeseries.csv', parse_dates=[0])\n",
    "print(ebola.iloc[:5,:5])\n",
    "# 가장 앞쪽의 데이터 살펴보기 \n",
    "# 2014년 1월 1일의 데이터 누락"
   ]
  },
  {
   "cell_type": "code",
   "execution_count": 34,
   "id": "fd00ea5c",
   "metadata": {},
   "outputs": [
    {
     "name": "stdout",
     "output_type": "stream",
     "text": [
      "          Date  Day  Cases_Guinea  Cases_Liberia  Cases_SierraLeone\n",
      "117 2014-03-27    5         103.0            8.0                6.0\n",
      "118 2014-03-26    4          86.0            NaN                NaN\n",
      "119 2014-03-25    3          86.0            NaN                NaN\n",
      "120 2014-03-24    2          86.0            NaN                NaN\n",
      "121 2014-03-22    0          49.0            NaN                NaN\n"
     ]
    }
   ],
   "source": [
    "print(ebola.iloc[-5:,:5])\n",
    "# 2014년 3월 23일 데이터 누락"
   ]
  },
  {
   "cell_type": "code",
   "execution_count": 35,
   "id": "bed99b95",
   "metadata": {},
   "outputs": [
    {
     "name": "stdout",
     "output_type": "stream",
     "text": [
      "DatetimeIndex(['2014-12-31', '2015-01-01', '2015-01-02', '2015-01-03',\n",
      "               '2015-01-04', '2015-01-05'],\n",
      "              dtype='datetime64[ns]', freq='D')\n"
     ]
    }
   ],
   "source": [
    "head_range = pd.date_range(start='2014-12-31', end='2015-01-05')\n",
    "# 2014.12.31 ~ 2015.01.05 사이의 시간 인덱스(DatetimeIndex) 생성\n",
    "print(head_range)"
   ]
  },
  {
   "cell_type": "code",
   "execution_count": 36,
   "id": "5445389e",
   "metadata": {},
   "outputs": [
    {
     "name": "stdout",
     "output_type": "stream",
     "text": [
      "                 Date  Day  Cases_Guinea  Cases_Liberia  Cases_SierraLeone\n",
      "Date                                                                      \n",
      "2015-01-05 2015-01-05  289        2776.0            NaN            10030.0\n",
      "2015-01-04 2015-01-04  288        2775.0            NaN             9780.0\n",
      "2015-01-03 2015-01-03  287        2769.0         8166.0             9722.0\n",
      "2015-01-02 2015-01-02  286           NaN         8157.0                NaN\n",
      "2014-12-31 2014-12-31  284        2730.0         8115.0             9633.0\n"
     ]
    }
   ],
   "source": [
    "ebola_5 = ebola.head()\n",
    "ebola_5.index = ebola_5['Date'] # Date열을 인덱스로 지정 (없으면 오류 발생)\n",
    "ebola_5.reindex(head_range) # head_range(시간 범위)를 인덱스로 지정\n",
    "print(ebola_5.iloc[:5,:5])"
   ]
  },
  {
   "cell_type": "code",
   "execution_count": 37,
   "id": "22eaf998",
   "metadata": {},
   "outputs": [
    {
     "name": "stdout",
     "output_type": "stream",
     "text": [
      "DatetimeIndex(['2017-01-02', '2017-01-03', '2017-01-04', '2017-01-05',\n",
      "               '2017-01-06'],\n",
      "              dtype='datetime64[ns]', freq='B')\n"
     ]
    }
   ],
   "source": [
    "print(pd.date_range('2017-01-01','2017-01-07', freq='B')) #freq = 'B' 는 평일만 포함\n",
    "# 2017-01-07은 빠짐 (평일이 아님)"
   ]
  },
  {
   "cell_type": "code",
   "execution_count": 38,
   "id": "f329af07",
   "metadata": {},
   "outputs": [
    {
     "data": {
      "image/png": "[encoded data removed]",
      "text/plain": [
       "<Figure size 432x288 with 1 Axes>"
      ]
     },
     "metadata": {
      "needs_background": "light"
     },
     "output_type": "display_data"
    }
   ],
   "source": [
    "# 시간 범위 수정하고 데이터 밀어내기 - shift 메서드\n",
    "\n",
    "import matplotlib.pyplot as plt\n",
    "\n",
    "ebola.index = ebola['Date']\n",
    "fig, ax = plt.subplots()\n",
    "ax = ebola.iloc[0:,1:].plot(ax=ax)\n",
    "ax.legend(fontsize=7, loc=2, borderaxespad=0.)\n",
    "plt.show()"
   ]
  },
  {
   "cell_type": "code",
   "execution_count": 39,
   "id": "d4f5a3f6",
   "metadata": {},
   "outputs": [
    {
     "name": "stdout",
     "output_type": "stream",
     "text": [
      "            Day  Cases_Guinea  Cases_Liberia\n",
      "Date                                        \n",
      "2014-04-04   13         143.0           18.0\n",
      "2014-04-01   10         127.0            8.0\n",
      "2014-03-31    9         122.0            8.0\n",
      "2014-03-29    7         112.0            7.0\n",
      "2014-03-28    6         112.0            3.0\n",
      "2014-03-27    5         103.0            8.0\n",
      "2014-03-26    4          86.0            NaN\n",
      "2014-03-25    3          86.0            NaN\n",
      "2014-03-24    2          86.0            NaN\n",
      "2014-03-22    0          49.0            NaN\n"
     ]
    }
   ],
   "source": [
    "ebola_sub = ebola[['Day','Cases_Guinea','Cases_Liberia']]\n",
    "print(ebola_sub.tail(10))"
   ]
  },
  {
   "cell_type": "code",
   "execution_count": 60,
   "id": "01398345",
   "metadata": {},
   "outputs": [
    {
     "name": "stdout",
     "output_type": "stream",
     "text": [
      "        Date  Day  Cases_Guinea  Cases_Liberia  Cases_SierraLeone\n",
      "0 2015-01-05  289        2776.0            NaN            10030.0\n",
      "1 2015-01-04  288        2775.0            NaN             9780.0\n",
      "2 2015-01-03  287        2769.0         8166.0             9722.0\n",
      "3 2015-01-02  286           NaN         8157.0                NaN\n",
      "4 2014-12-31  284        2730.0         8115.0             9633.0\n",
      "\n",
      "\n",
      "          Date  Day  Cases_Guinea  Cases_Liberia  Cases_SierraLeone\n",
      "117 2014-03-27    5         103.0            8.0                6.0\n",
      "118 2014-03-26    4          86.0            NaN                NaN\n",
      "119 2014-03-25    3          86.0            NaN                NaN\n",
      "120 2014-03-24    2          86.0            NaN                NaN\n",
      "121 2014-03-22    0          49.0            NaN                NaN\n"
     ]
    }
   ],
   "source": [
    "ebola = pd.read_csv('./data/country_timeseries.csv',parse_dates=['Date'])\n",
    "# Date 열의 자료형을 datetime 오브젝트로 변환\n",
    "# '../' : 부모 디렉터리 , './' : 현재 디렉터리\n",
    "print(ebola.head().iloc[:,:5])\n",
    "print('\\n')\n",
    "print(ebola.tail().iloc[:,:5])"
   ]
  },
  {
   "cell_type": "code",
   "execution_count": 61,
   "id": "24c88e10",
   "metadata": {},
   "outputs": [
    {
     "name": "stdout",
     "output_type": "stream",
     "text": [
      "DatetimeIndex(['2014-03-22', '2014-03-23', '2014-03-24', '2014-03-25',\n",
      "               '2014-03-26', '2014-03-27', '2014-03-28', '2014-03-29',\n",
      "               '2014-03-30', '2014-03-31',\n",
      "               ...\n",
      "               '2014-12-27', '2014-12-28', '2014-12-29', '2014-12-30',\n",
      "               '2014-12-31', '2015-01-01', '2015-01-02', '2015-01-03',\n",
      "               '2015-01-04', '2015-01-05'],\n",
      "              dtype='datetime64[ns]', length=290, freq='D')\n"
     ]
    }
   ],
   "source": [
    "ebola.index = ebola['Date']\n",
    "new_idx = pd.date_range(ebola.index.min(), ebola.index.max())\n",
    "print(new_idx)\n",
    "# ebola 데이터 프레임의 Date 열의 최댓값과 최솟값으로 시간범위 생성해서 인덱스에 저장\n",
    "# 날짜가 아예 없었던 데이터의 인덱스 생성 가능 \n",
    "# new_idx 는 ebola 데이터 집합에 있는 시간 순서 반대로 생성됨\n",
    "\n",
    "new_idx = reversed(new_idx) # 인덱스 반대로 뒤집기 "
   ]
  },
  {
   "cell_type": "code",
   "execution_count": 62,
   "id": "1b2eb59a",
   "metadata": {},
   "outputs": [
    {
     "name": "stdout",
     "output_type": "stream",
     "text": [
      "                 Date    Day  Cases_Guinea  Cases_Liberia  Cases_SierraLeone\n",
      "Date                                                                        \n",
      "2015-01-05 2015-01-05  289.0        2776.0            NaN            10030.0\n",
      "2015-01-04 2015-01-04  288.0        2775.0            NaN             9780.0\n",
      "2015-01-03 2015-01-03  287.0        2769.0         8166.0             9722.0\n",
      "2015-01-02 2015-01-02  286.0           NaN         8157.0                NaN\n",
      "2015-01-01        NaT    NaN           NaN            NaN                NaN\n",
      "\n",
      "\n",
      "                 Date  Day  Cases_Guinea  Cases_Liberia  Cases_SierraLeone\n",
      "Date                                                                      \n",
      "2014-03-26 2014-03-26  4.0          86.0            NaN                NaN\n",
      "2014-03-25 2014-03-25  3.0          86.0            NaN                NaN\n",
      "2014-03-24 2014-03-24  2.0          86.0            NaN                NaN\n",
      "2014-03-23        NaT  NaN           NaN            NaN                NaN\n",
      "2014-03-22 2014-03-22  0.0          49.0            NaN                NaN\n"
     ]
    }
   ],
   "source": [
    "ebola = ebola.reindex(new_idx) # new_idx를 새로운 인덱스로 지정\n",
    "print(ebola.head().iloc[:,:5]) \n",
    "# 2015년 01월 01일 데이터와 같이 데이터프레임에 없던 날짜 추가됨\n",
    "# 시간에 대한 누락값은 NaT\n",
    "print('\\n')\n",
    "print(ebola.tail().iloc[:,:5])"
   ]
  },
  {
   "cell_type": "code",
   "execution_count": 63,
   "id": "6aa33793",
   "metadata": {},
   "outputs": [
    {
     "name": "stdout",
     "output_type": "stream",
     "text": [
      "Date                  2014-03-22\n",
      "Day                   2014-03-22\n",
      "Cases_Guinea          2014-03-22\n",
      "Cases_Liberia         2014-03-27\n",
      "Cases_SierraLeone     2014-03-27\n",
      "Cases_Nigeria         2014-07-23\n",
      "Cases_Senegal         2014-08-31\n",
      "Cases_UnitedStates    2014-10-01\n",
      "Cases_Spain           2014-10-08\n",
      "Cases_Mali            2014-10-22\n",
      "Deaths_Guinea         2014-03-22\n",
      "Deaths_Liberia        2014-03-27\n",
      "Deaths_SierraLeone    2014-03-27\n",
      "Deaths_Nigeria        2014-07-23\n",
      "Deaths_Senegal        2014-09-07\n",
      "Deaths_UnitedStates   2014-10-01\n",
      "Deaths_Spain          2014-10-08\n",
      "Deaths_Mali           2014-10-22\n",
      "dtype: datetime64[ns]\n"
     ]
    }
   ],
   "source": [
    "last_valid = ebola.apply(pd.Series.last_valid_index) \n",
    "# last_valid_index 는 가장 오래된 데이터를 가져옵니다. (유효한 값이 있는 첫 번째 인덱스 반환)\n",
    "print(last_valid)"
   ]
  },
  {
   "cell_type": "code",
   "execution_count": 64,
   "id": "31a6452d",
   "metadata": {},
   "outputs": [
    {
     "name": "stdout",
     "output_type": "stream",
     "text": [
      "Date                  2015-01-05\n",
      "Day                   2015-01-05\n",
      "Cases_Guinea          2015-01-05\n",
      "Cases_Liberia         2015-01-03\n",
      "Cases_SierraLeone     2015-01-05\n",
      "Cases_Nigeria         2014-12-07\n",
      "Cases_Senegal         2014-12-07\n",
      "Cases_UnitedStates    2014-12-07\n",
      "Cases_Spain           2014-12-07\n",
      "Cases_Mali            2014-12-07\n",
      "Deaths_Guinea         2015-01-05\n",
      "Deaths_Liberia        2015-01-03\n",
      "Deaths_SierraLeone    2015-01-05\n",
      "Deaths_Nigeria        2014-12-07\n",
      "Deaths_Senegal        2014-12-07\n",
      "Deaths_UnitedStates   2014-12-07\n",
      "Deaths_Spain          2014-12-07\n",
      "Deaths_Mali           2014-12-07\n",
      "dtype: datetime64[ns]\n"
     ]
    }
   ],
   "source": [
    "first_valid = ebola.apply(pd.Series.first_valid_index)\n",
    "print(first_valid)"
   ]
  },
  {
   "cell_type": "code",
   "execution_count": 66,
   "id": "cb5c9fc3",
   "metadata": {},
   "outputs": [
    {
     "name": "stdout",
     "output_type": "stream",
     "text": [
      "2014-03-22 00:00:00\n",
      "Date                    0 days\n",
      "Day                     0 days\n",
      "Cases_Guinea            0 days\n",
      "Cases_Liberia           5 days\n",
      "Cases_SierraLeone       5 days\n",
      "Cases_Nigeria         123 days\n",
      "Cases_Senegal         162 days\n",
      "Cases_UnitedStates    193 days\n",
      "Cases_Spain           200 days\n",
      "Cases_Mali            214 days\n",
      "Deaths_Guinea           0 days\n",
      "Deaths_Liberia          5 days\n",
      "Deaths_SierraLeone      5 days\n",
      "Deaths_Nigeria        123 days\n",
      "Deaths_Senegal        169 days\n",
      "Deaths_UnitedStates   193 days\n",
      "Deaths_Spain          200 days\n",
      "Deaths_Mali           214 days\n",
      "dtype: timedelta64[ns]\n"
     ]
    }
   ],
   "source": [
    "earliest_date = ebola.index.min() # 가장 처음 발병한 날\n",
    "print(earliest_date)\n",
    "\n",
    "shift_values = last_valid - earliest_date\n",
    "# 각 나라의 에볼라 발병일을 동일한 출발선으로 옮기는 과정\n",
    "# 처음 발병한 날(earliest_date)에서 각 나라의 에볼라 발병일을 뺀 만큼(shift_values) 옮긴다\n",
    "print(shift_values)"
   ]
  },
  {
   "cell_type": "code",
   "execution_count": 70,
   "id": "1230022c",
   "metadata": {},
   "outputs": [],
   "source": [
    "ebola_dict = {}\n",
    "for idx, col in enumerate(ebola):\n",
    "    d = shift_values[idx].days\n",
    "    shifted = ebola[col].shift(d) # shift() : 인자값만큼 데이터를 밀어내는 함수\n",
    "    ebola_dict[col] = shifted\n",
    "\n",
    "ebola_shift = pd.DataFrame(ebola_dict) # ebola_dict의 값을 데이터프레임으로"
   ]
  },
  {
   "cell_type": "code",
   "execution_count": 71,
   "id": "5bdf5405",
   "metadata": {},
   "outputs": [
    {
     "name": "stdout",
     "output_type": "stream",
     "text": [
      "                 Date  Day  Cases_Guinea  Cases_Liberia  Cases_SierraLeone  \\\n",
      "Date                                                                         \n",
      "2014-03-26 2014-03-26  4.0          86.0            8.0                2.0   \n",
      "2014-03-25 2014-03-25  3.0          86.0            NaN                NaN   \n",
      "2014-03-24 2014-03-24  2.0          86.0            7.0                NaN   \n",
      "2014-03-23        NaT  NaN           NaN            3.0                2.0   \n",
      "2014-03-22 2014-03-22  0.0          49.0            8.0                6.0   \n",
      "\n",
      "            Cases_Nigeria  Cases_Senegal  Cases_UnitedStates  Cases_Spain  \\\n",
      "Date                                                                        \n",
      "2014-03-26            1.0            NaN                 1.0          1.0   \n",
      "2014-03-25            NaN            NaN                 NaN          NaN   \n",
      "2014-03-24            NaN            NaN                 NaN          NaN   \n",
      "2014-03-23            NaN            NaN                 NaN          NaN   \n",
      "2014-03-22            0.0            1.0                 1.0          1.0   \n",
      "\n",
      "            Cases_Mali  Deaths_Guinea  Deaths_Liberia  Deaths_SierraLeone  \\\n",
      "Date                                                                        \n",
      "2014-03-26         NaN           62.0             4.0                 2.0   \n",
      "2014-03-25         NaN           60.0             NaN                 NaN   \n",
      "2014-03-24         NaN           59.0             2.0                 NaN   \n",
      "2014-03-23         NaN            NaN             3.0                 2.0   \n",
      "2014-03-22         1.0           29.0             6.0                 5.0   \n",
      "\n",
      "            Deaths_Nigeria  Deaths_Senegal  Deaths_UnitedStates  Deaths_Spain  \\\n",
      "Date                                                                            \n",
      "2014-03-26             1.0             NaN                  0.0           1.0   \n",
      "2014-03-25             NaN             NaN                  NaN           NaN   \n",
      "2014-03-24             NaN             NaN                  NaN           NaN   \n",
      "2014-03-23             NaN             NaN                  NaN           NaN   \n",
      "2014-03-22             0.0             0.0                  0.0           1.0   \n",
      "\n",
      "            Deaths_Mali  \n",
      "Date                     \n",
      "2014-03-26          NaN  \n",
      "2014-03-25          NaN  \n",
      "2014-03-24          NaN  \n",
      "2014-03-23          NaN  \n",
      "2014-03-22          1.0  \n"
     ]
    }
   ],
   "source": [
    "print(ebola_shift.tail()) \n",
    "# 최초 발병일 (2014-03-22) 기준으로 모든 열의 데이터 옮김"
   ]
  },
  {
   "cell_type": "code",
   "execution_count": 72,
   "id": "380fa6d7",
   "metadata": {},
   "outputs": [
    {
     "name": "stdout",
     "output_type": "stream",
     "text": [
      "     Cases_Guinea  Cases_Liberia  Cases_SierraLeone  Cases_Nigeria  \\\n",
      "Day                                                                  \n",
      "4.0          86.0            8.0                2.0            1.0   \n",
      "3.0          86.0            NaN                NaN            NaN   \n",
      "2.0          86.0            7.0                NaN            NaN   \n",
      "NaN           NaN            3.0                2.0            NaN   \n",
      "0.0          49.0            8.0                6.0            0.0   \n",
      "\n",
      "     Cases_Senegal  Cases_UnitedStates  Cases_Spain  Cases_Mali  \\\n",
      "Day                                                               \n",
      "4.0            NaN                 1.0          1.0         NaN   \n",
      "3.0            NaN                 NaN          NaN         NaN   \n",
      "2.0            NaN                 NaN          NaN         NaN   \n",
      "NaN            NaN                 NaN          NaN         NaN   \n",
      "0.0            1.0                 1.0          1.0         1.0   \n",
      "\n",
      "     Deaths_Guinea  Deaths_Liberia  Deaths_SierraLeone  Deaths_Nigeria  \\\n",
      "Day                                                                      \n",
      "4.0           62.0             4.0                 2.0             1.0   \n",
      "3.0           60.0             NaN                 NaN             NaN   \n",
      "2.0           59.0             2.0                 NaN             NaN   \n",
      "NaN            NaN             3.0                 2.0             NaN   \n",
      "0.0           29.0             6.0                 5.0             0.0   \n",
      "\n",
      "     Deaths_Senegal  Deaths_UnitedStates  Deaths_Spain  Deaths_Mali  \n",
      "Day                                                                  \n",
      "4.0             NaN                  0.0           1.0          NaN  \n",
      "3.0             NaN                  NaN           NaN          NaN  \n",
      "2.0             NaN                  NaN           NaN          NaN  \n",
      "NaN             NaN                  NaN           NaN          NaN  \n",
      "0.0             0.0                  0.0           1.0          1.0  \n"
     ]
    }
   ],
   "source": [
    "ebola_shift.index = ebola_shift['Day'] # Day열을 인덱스로 지정\n",
    "ebola_shift = ebola_shift.drop(['Date','Day'],axis=1) # 그래프에 필요 없는 열 삭제\n",
    "print(ebola_shift.tail())"
   ]
  },
  {
   "cell_type": "code",
   "execution_count": 74,
   "id": "a42a7b79",
   "metadata": {},
   "outputs": [
    {
     "data": {
      "image/png": "[encoded data removed]",
      "text/plain": [
       "<Figure size 432x288 with 1 Axes>"
      ]
     },
     "metadata": {
      "needs_background": "light"
     },
     "output_type": "display_data"
    }
   ],
   "source": [
    "fig, ax = plt.subplots()\n",
    "ax = ebola_shift.iloc[:,:].plot(ax=ax)\n",
    "ax.legend(fontsize=7, loc=2, borderaxespad=0.)\n",
    "plt.show()"
   ]
  }
 ],
 "metadata": {
  "kernelspec": {
   "display_name": "Python 3",
   "language": "python",
   "name": "python3"
  },
  "language_info": {
   "codemirror_mode": {
    "name": "ipython",
    "version": 3
   },
   "file_extension": ".py",
   "mimetype": "text/x-python",
   "name": "python",
   "nbconvert_exporter": "python",
   "pygments_lexer": "ipython3",
   "version": "3.8.8"
  }
 },
 "nbformat": 4,
 "nbformat_minor": 5
}
