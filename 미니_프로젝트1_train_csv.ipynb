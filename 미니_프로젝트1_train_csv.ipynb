{
 "cells": [
  {
   "cell_type": "markdown",
   "metadata": {
    "id": "HXO69Xc02m8C"
   },
   "source": [
    "# 미니 프로젝트 (1)"
   ]
  },
  {
   "cell_type": "markdown",
   "metadata": {
    "id": "q0cR7t3V2xH6"
   },
   "source": [
    "# **1. 라이브러리 및 데이터**\n"
   ]
  },
  {
   "cell_type": "code",
   "execution_count": 1,
   "metadata": {
    "colab": {
     "base_uri": "https://localhost:8080/"
    },
    "id": "EEphQmlCuSri",
    "outputId": "f1c2ba86-9ec7-4d68-ca70-b5cc6330f549"
   },
   "outputs": [],
   "source": [
    "# matplotlib 한글 깨짐방지\n",
    "# 아래코드 실행후 '런타임 다시시작' 후 모듈 불러오기\n",
    "# 참고 블로그: https://teddylee777.github.io/colab/colab-korean \n",
    "#!sudo apt-get install -y fonts-nanum\n",
    "#!sudo fc-cache -fv\n",
    "#!rm ~/.cache/matplotlib -rf"
   ]
  },
  {
   "cell_type": "code",
   "execution_count": 23,
   "metadata": {
    "id": "pb0OD3v82lnT"
   },
   "outputs": [],
   "source": [
    "import pandas as pd \n",
    "import numpy as np\n",
    "import seaborn as sns\n",
    "import matplotlib.pyplot as plt\n",
    "plt.rc('font', family='NanumBarunGothic') #matplotlib 한글 깨짐 방지\n",
    "\n",
    "import warnings\n",
    "warnings.filterwarnings(action='ignore')"
   ]
  },
  {
   "cell_type": "code",
   "execution_count": 19,
   "metadata": {
    "id": "RzzCqQ8i1Vu7"
   },
   "outputs": [],
   "source": [
    "# 데이터 불러오기\n",
    "train=pd.read_csv(\"./movies_train.csv\")"
   ]
  },
  {
   "cell_type": "markdown",
   "metadata": {
    "id": "jwLtCHGC2lnb"
   },
   "source": [
    "# **2. 탐색적 자료분석(EDA)**\n",
    "\n"
   ]
  },
  {
   "cell_type": "markdown",
   "metadata": {
    "id": "2JQmZSvV1VvA"
   },
   "source": [
    "## 1) 일부 데이터 미리보기\n"
   ]
  },
  {
   "cell_type": "markdown",
   "metadata": {
    "id": "F41FW4c31VvH"
   },
   "source": [
    "+ title : 영화의 제목\n",
    "+ distributor : 배급사\n",
    "+ genre : 장르\n",
    "+ release_time : 개봉일\n",
    "+ time : 상영시간(분)\n",
    "+ screening_rat : 상영등급\n",
    "+ director : 감독이름\n",
    "+ dir_prev_bfnum : 해당 감독이 이 영화를 만들기 전 제작에 참여한 영화에서의 평균 관객수(단 관객수가 알려지지 않은 영화 제외)\n",
    "+ dir_prev_num : 해당 감독이 이 영화를 만들기 전 제작에 참여한 영화의 개수(단 관객수가 알려지지 않은 영화 제외)\n",
    "+ num_staff : 스텝수\n",
    "+ num_actor : 주연배우수\n",
    "+ box_off_num : 관객수"
   ]
  },
  {
   "cell_type": "code",
   "execution_count": 4,
   "metadata": {
    "colab": {
     "base_uri": "https://localhost:8080/",
     "height": 203
    },
    "id": "JHnbWsINM73F",
    "outputId": "c36dbc70-a709-4d2b-cc05-e2b2035e83ca"
   },
   "outputs": [
    {
     "data": {
      "text/html": [
       "<div>\n",
       "<style scoped>\n",
       "    .dataframe tbody tr th:only-of-type {\n",
       "        vertical-align: middle;\n",
       "    }\n",
       "\n",
       "    .dataframe tbody tr th {\n",
       "        vertical-align: top;\n",
       "    }\n",
       "\n",
       "    .dataframe thead th {\n",
       "        text-align: right;\n",
       "    }\n",
       "</style>\n",
       "<table border=\"1\" class=\"dataframe\">\n",
       "  <thead>\n",
       "    <tr style=\"text-align: right;\">\n",
       "      <th></th>\n",
       "      <th>title</th>\n",
       "      <th>distributor</th>\n",
       "      <th>genre</th>\n",
       "      <th>release_time</th>\n",
       "      <th>time</th>\n",
       "      <th>screening_rat</th>\n",
       "      <th>director</th>\n",
       "      <th>dir_prev_bfnum</th>\n",
       "      <th>dir_prev_num</th>\n",
       "      <th>num_staff</th>\n",
       "      <th>num_actor</th>\n",
       "      <th>box_off_num</th>\n",
       "    </tr>\n",
       "  </thead>\n",
       "  <tbody>\n",
       "    <tr>\n",
       "      <th>0</th>\n",
       "      <td>개들의 전쟁</td>\n",
       "      <td>롯데엔터테인먼트</td>\n",
       "      <td>액션</td>\n",
       "      <td>2012-11-22</td>\n",
       "      <td>96</td>\n",
       "      <td>청소년 관람불가</td>\n",
       "      <td>조병옥</td>\n",
       "      <td>NaN</td>\n",
       "      <td>0</td>\n",
       "      <td>91</td>\n",
       "      <td>2</td>\n",
       "      <td>23398</td>\n",
       "    </tr>\n",
       "    <tr>\n",
       "      <th>1</th>\n",
       "      <td>내부자들</td>\n",
       "      <td>(주)쇼박스</td>\n",
       "      <td>느와르</td>\n",
       "      <td>2015-11-19</td>\n",
       "      <td>130</td>\n",
       "      <td>청소년 관람불가</td>\n",
       "      <td>우민호</td>\n",
       "      <td>1161602.50</td>\n",
       "      <td>2</td>\n",
       "      <td>387</td>\n",
       "      <td>3</td>\n",
       "      <td>7072501</td>\n",
       "    </tr>\n",
       "    <tr>\n",
       "      <th>2</th>\n",
       "      <td>은밀하게 위대하게</td>\n",
       "      <td>(주)쇼박스</td>\n",
       "      <td>액션</td>\n",
       "      <td>2013-06-05</td>\n",
       "      <td>123</td>\n",
       "      <td>15세 관람가</td>\n",
       "      <td>장철수</td>\n",
       "      <td>220775.25</td>\n",
       "      <td>4</td>\n",
       "      <td>343</td>\n",
       "      <td>4</td>\n",
       "      <td>6959083</td>\n",
       "    </tr>\n",
       "    <tr>\n",
       "      <th>3</th>\n",
       "      <td>나는 공무원이다</td>\n",
       "      <td>(주)NEW</td>\n",
       "      <td>코미디</td>\n",
       "      <td>2012-07-12</td>\n",
       "      <td>101</td>\n",
       "      <td>전체 관람가</td>\n",
       "      <td>구자홍</td>\n",
       "      <td>23894.00</td>\n",
       "      <td>2</td>\n",
       "      <td>20</td>\n",
       "      <td>6</td>\n",
       "      <td>217866</td>\n",
       "    </tr>\n",
       "    <tr>\n",
       "      <th>4</th>\n",
       "      <td>불량남녀</td>\n",
       "      <td>쇼박스(주)미디어플렉스</td>\n",
       "      <td>코미디</td>\n",
       "      <td>2010-11-04</td>\n",
       "      <td>108</td>\n",
       "      <td>15세 관람가</td>\n",
       "      <td>신근호</td>\n",
       "      <td>1.00</td>\n",
       "      <td>1</td>\n",
       "      <td>251</td>\n",
       "      <td>2</td>\n",
       "      <td>483387</td>\n",
       "    </tr>\n",
       "  </tbody>\n",
       "</table>\n",
       "</div>"
      ],
      "text/plain": [
       "       title   distributor genre release_time  time screening_rat director  \\\n",
       "0     개들의 전쟁      롯데엔터테인먼트    액션   2012-11-22    96      청소년 관람불가      조병옥   \n",
       "1       내부자들        (주)쇼박스   느와르   2015-11-19   130      청소년 관람불가      우민호   \n",
       "2  은밀하게 위대하게        (주)쇼박스    액션   2013-06-05   123       15세 관람가      장철수   \n",
       "3   나는 공무원이다        (주)NEW   코미디   2012-07-12   101        전체 관람가      구자홍   \n",
       "4       불량남녀  쇼박스(주)미디어플렉스   코미디   2010-11-04   108       15세 관람가      신근호   \n",
       "\n",
       "   dir_prev_bfnum  dir_prev_num  num_staff  num_actor  box_off_num  \n",
       "0             NaN             0         91          2        23398  \n",
       "1      1161602.50             2        387          3      7072501  \n",
       "2       220775.25             4        343          4      6959083  \n",
       "3        23894.00             2         20          6       217866  \n",
       "4            1.00             1        251          2       483387  "
      ]
     },
     "execution_count": 4,
     "metadata": {},
     "output_type": "execute_result"
    }
   ],
   "source": [
    "train.head()"
   ]
  },
  {
   "cell_type": "code",
   "execution_count": 5,
   "metadata": {
    "colab": {
     "base_uri": "https://localhost:8080/",
     "height": 203
    },
    "id": "fOCBylQf76--",
    "outputId": "f9e82a4f-8957-4ddf-90e1-a21ed942200a"
   },
   "outputs": [
    {
     "data": {
      "text/html": [
       "<div>\n",
       "<style scoped>\n",
       "    .dataframe tbody tr th:only-of-type {\n",
       "        vertical-align: middle;\n",
       "    }\n",
       "\n",
       "    .dataframe tbody tr th {\n",
       "        vertical-align: top;\n",
       "    }\n",
       "\n",
       "    .dataframe thead th {\n",
       "        text-align: right;\n",
       "    }\n",
       "</style>\n",
       "<table border=\"1\" class=\"dataframe\">\n",
       "  <thead>\n",
       "    <tr style=\"text-align: right;\">\n",
       "      <th></th>\n",
       "      <th>title</th>\n",
       "      <th>distributor</th>\n",
       "      <th>genre</th>\n",
       "      <th>release_time</th>\n",
       "      <th>time</th>\n",
       "      <th>screening_rat</th>\n",
       "      <th>director</th>\n",
       "      <th>dir_prev_bfnum</th>\n",
       "      <th>dir_prev_num</th>\n",
       "      <th>num_staff</th>\n",
       "      <th>num_actor</th>\n",
       "      <th>box_off_num</th>\n",
       "    </tr>\n",
       "  </thead>\n",
       "  <tbody>\n",
       "    <tr>\n",
       "      <th>595</th>\n",
       "      <td>해무</td>\n",
       "      <td>(주)NEW</td>\n",
       "      <td>드라마</td>\n",
       "      <td>2014-08-13</td>\n",
       "      <td>111</td>\n",
       "      <td>청소년 관람불가</td>\n",
       "      <td>심성보</td>\n",
       "      <td>3833.0</td>\n",
       "      <td>1</td>\n",
       "      <td>510</td>\n",
       "      <td>7</td>\n",
       "      <td>1475091</td>\n",
       "    </tr>\n",
       "    <tr>\n",
       "      <th>596</th>\n",
       "      <td>파파로티</td>\n",
       "      <td>(주)쇼박스</td>\n",
       "      <td>드라마</td>\n",
       "      <td>2013-03-14</td>\n",
       "      <td>127</td>\n",
       "      <td>15세 관람가</td>\n",
       "      <td>윤종찬</td>\n",
       "      <td>496061.0</td>\n",
       "      <td>1</td>\n",
       "      <td>286</td>\n",
       "      <td>6</td>\n",
       "      <td>1716438</td>\n",
       "    </tr>\n",
       "    <tr>\n",
       "      <th>597</th>\n",
       "      <td>살인의 강</td>\n",
       "      <td>(주)마운틴픽쳐스</td>\n",
       "      <td>공포</td>\n",
       "      <td>2010-09-30</td>\n",
       "      <td>99</td>\n",
       "      <td>청소년 관람불가</td>\n",
       "      <td>김대현</td>\n",
       "      <td>NaN</td>\n",
       "      <td>0</td>\n",
       "      <td>123</td>\n",
       "      <td>4</td>\n",
       "      <td>2475</td>\n",
       "    </tr>\n",
       "    <tr>\n",
       "      <th>598</th>\n",
       "      <td>악의 연대기</td>\n",
       "      <td>CJ 엔터테인먼트</td>\n",
       "      <td>느와르</td>\n",
       "      <td>2015-05-14</td>\n",
       "      <td>102</td>\n",
       "      <td>15세 관람가</td>\n",
       "      <td>백운학</td>\n",
       "      <td>NaN</td>\n",
       "      <td>0</td>\n",
       "      <td>431</td>\n",
       "      <td>4</td>\n",
       "      <td>2192525</td>\n",
       "    </tr>\n",
       "    <tr>\n",
       "      <th>599</th>\n",
       "      <td>베를린</td>\n",
       "      <td>CJ 엔터테인먼트</td>\n",
       "      <td>액션</td>\n",
       "      <td>2013-01-30</td>\n",
       "      <td>120</td>\n",
       "      <td>15세 관람가</td>\n",
       "      <td>류승완</td>\n",
       "      <td>NaN</td>\n",
       "      <td>0</td>\n",
       "      <td>363</td>\n",
       "      <td>5</td>\n",
       "      <td>7166532</td>\n",
       "    </tr>\n",
       "  </tbody>\n",
       "</table>\n",
       "</div>"
      ],
      "text/plain": [
       "      title distributor genre release_time  time screening_rat director  \\\n",
       "595      해무      (주)NEW   드라마   2014-08-13   111      청소년 관람불가      심성보   \n",
       "596    파파로티      (주)쇼박스   드라마   2013-03-14   127       15세 관람가      윤종찬   \n",
       "597   살인의 강   (주)마운틴픽쳐스    공포   2010-09-30    99      청소년 관람불가      김대현   \n",
       "598  악의 연대기   CJ 엔터테인먼트   느와르   2015-05-14   102       15세 관람가      백운학   \n",
       "599     베를린   CJ 엔터테인먼트    액션   2013-01-30   120       15세 관람가      류승완   \n",
       "\n",
       "     dir_prev_bfnum  dir_prev_num  num_staff  num_actor  box_off_num  \n",
       "595          3833.0             1        510          7      1475091  \n",
       "596        496061.0             1        286          6      1716438  \n",
       "597             NaN             0        123          4         2475  \n",
       "598             NaN             0        431          4      2192525  \n",
       "599             NaN             0        363          5      7166532  "
      ]
     },
     "execution_count": 5,
     "metadata": {},
     "output_type": "execute_result"
    }
   ],
   "source": [
    "train.tail()"
   ]
  },
  {
   "cell_type": "markdown",
   "metadata": {
    "id": "tMIOo3ON1Vva"
   },
   "source": [
    "## 2) 데이터 요약\n"
   ]
  },
  {
   "cell_type": "code",
   "execution_count": 6,
   "metadata": {
    "colab": {
     "base_uri": "https://localhost:8080/"
    },
    "id": "VkMTk4b61VvW",
    "outputId": "3ce1aec5-3826-4613-f141-69ce4a8006df"
   },
   "outputs": [
    {
     "name": "stdout",
     "output_type": "stream",
     "text": [
      "(600, 12)\n"
     ]
    }
   ],
   "source": [
    "print(train.shape)"
   ]
  },
  {
   "cell_type": "code",
   "execution_count": 7,
   "metadata": {
    "colab": {
     "base_uri": "https://localhost:8080/"
    },
    "id": "sEp0YkCP1Vvb",
    "outputId": "0a1cdb83-30d2-4bcd-b1c9-d1eb7a48cf4a"
   },
   "outputs": [
    {
     "name": "stdout",
     "output_type": "stream",
     "text": [
      "<class 'pandas.core.frame.DataFrame'>\n",
      "RangeIndex: 600 entries, 0 to 599\n",
      "Data columns (total 12 columns):\n",
      " #   Column          Non-Null Count  Dtype  \n",
      "---  ------          --------------  -----  \n",
      " 0   title           600 non-null    object \n",
      " 1   distributor     600 non-null    object \n",
      " 2   genre           600 non-null    object \n",
      " 3   release_time    600 non-null    object \n",
      " 4   time            600 non-null    int64  \n",
      " 5   screening_rat   600 non-null    object \n",
      " 6   director        600 non-null    object \n",
      " 7   dir_prev_bfnum  270 non-null    float64\n",
      " 8   dir_prev_num    600 non-null    int64  \n",
      " 9   num_staff       600 non-null    int64  \n",
      " 10  num_actor       600 non-null    int64  \n",
      " 11  box_off_num     600 non-null    int64  \n",
      "dtypes: float64(1), int64(5), object(6)\n",
      "memory usage: 56.4+ KB\n"
     ]
    }
   ],
   "source": [
    "train.info()"
   ]
  },
  {
   "cell_type": "markdown",
   "metadata": {
    "id": "GFcwJdfj1Vve"
   },
   "source": [
    "## 3) 데이터의 요약통계량 확인"
   ]
  },
  {
   "cell_type": "code",
   "execution_count": 8,
   "metadata": {
    "id": "IzsYttKU1Vvf"
   },
   "outputs": [],
   "source": [
    "pd.options.display.float_format = '{:.1f}'.format"
   ]
  },
  {
   "cell_type": "code",
   "execution_count": 9,
   "metadata": {
    "colab": {
     "base_uri": "https://localhost:8080/",
     "height": 295
    },
    "id": "QmTGqyRy1Vvi",
    "outputId": "3ca01920-df5c-431b-f207-76b313bc70af"
   },
   "outputs": [
    {
     "data": {
      "text/html": [
       "<div>\n",
       "<style scoped>\n",
       "    .dataframe tbody tr th:only-of-type {\n",
       "        vertical-align: middle;\n",
       "    }\n",
       "\n",
       "    .dataframe tbody tr th {\n",
       "        vertical-align: top;\n",
       "    }\n",
       "\n",
       "    .dataframe thead th {\n",
       "        text-align: right;\n",
       "    }\n",
       "</style>\n",
       "<table border=\"1\" class=\"dataframe\">\n",
       "  <thead>\n",
       "    <tr style=\"text-align: right;\">\n",
       "      <th></th>\n",
       "      <th>time</th>\n",
       "      <th>dir_prev_bfnum</th>\n",
       "      <th>dir_prev_num</th>\n",
       "      <th>num_staff</th>\n",
       "      <th>num_actor</th>\n",
       "      <th>box_off_num</th>\n",
       "    </tr>\n",
       "  </thead>\n",
       "  <tbody>\n",
       "    <tr>\n",
       "      <th>count</th>\n",
       "      <td>600.0</td>\n",
       "      <td>270.0</td>\n",
       "      <td>600.0</td>\n",
       "      <td>600.0</td>\n",
       "      <td>600.0</td>\n",
       "      <td>600.0</td>\n",
       "    </tr>\n",
       "    <tr>\n",
       "      <th>mean</th>\n",
       "      <td>100.9</td>\n",
       "      <td>1050442.9</td>\n",
       "      <td>0.9</td>\n",
       "      <td>151.1</td>\n",
       "      <td>3.7</td>\n",
       "      <td>708181.8</td>\n",
       "    </tr>\n",
       "    <tr>\n",
       "      <th>std</th>\n",
       "      <td>18.1</td>\n",
       "      <td>1791408.3</td>\n",
       "      <td>1.2</td>\n",
       "      <td>165.7</td>\n",
       "      <td>2.4</td>\n",
       "      <td>1828005.9</td>\n",
       "    </tr>\n",
       "    <tr>\n",
       "      <th>min</th>\n",
       "      <td>45.0</td>\n",
       "      <td>1.0</td>\n",
       "      <td>0.0</td>\n",
       "      <td>0.0</td>\n",
       "      <td>0.0</td>\n",
       "      <td>1.0</td>\n",
       "    </tr>\n",
       "    <tr>\n",
       "      <th>25%</th>\n",
       "      <td>89.0</td>\n",
       "      <td>20380.0</td>\n",
       "      <td>0.0</td>\n",
       "      <td>17.0</td>\n",
       "      <td>2.0</td>\n",
       "      <td>1297.2</td>\n",
       "    </tr>\n",
       "    <tr>\n",
       "      <th>50%</th>\n",
       "      <td>100.0</td>\n",
       "      <td>478423.6</td>\n",
       "      <td>0.0</td>\n",
       "      <td>82.5</td>\n",
       "      <td>3.0</td>\n",
       "      <td>12591.0</td>\n",
       "    </tr>\n",
       "    <tr>\n",
       "      <th>75%</th>\n",
       "      <td>114.0</td>\n",
       "      <td>1286568.6</td>\n",
       "      <td>2.0</td>\n",
       "      <td>264.0</td>\n",
       "      <td>4.0</td>\n",
       "      <td>479886.8</td>\n",
       "    </tr>\n",
       "    <tr>\n",
       "      <th>max</th>\n",
       "      <td>180.0</td>\n",
       "      <td>17615314.0</td>\n",
       "      <td>5.0</td>\n",
       "      <td>869.0</td>\n",
       "      <td>25.0</td>\n",
       "      <td>14262766.0</td>\n",
       "    </tr>\n",
       "  </tbody>\n",
       "</table>\n",
       "</div>"
      ],
      "text/plain": [
       "       time  dir_prev_bfnum  dir_prev_num  num_staff  num_actor  box_off_num\n",
       "count 600.0           270.0         600.0      600.0      600.0        600.0\n",
       "mean  100.9       1050442.9           0.9      151.1        3.7     708181.8\n",
       "std    18.1       1791408.3           1.2      165.7        2.4    1828005.9\n",
       "min    45.0             1.0           0.0        0.0        0.0          1.0\n",
       "25%    89.0         20380.0           0.0       17.0        2.0       1297.2\n",
       "50%   100.0        478423.6           0.0       82.5        3.0      12591.0\n",
       "75%   114.0       1286568.6           2.0      264.0        4.0     479886.8\n",
       "max   180.0      17615314.0           5.0      869.0       25.0   14262766.0"
      ]
     },
     "execution_count": 9,
     "metadata": {},
     "output_type": "execute_result"
    }
   ],
   "source": [
    "train.describe() # min을 확인하여 음수값 있는지 확인 "
   ]
  },
  {
   "cell_type": "markdown",
   "metadata": {
    "id": "YiJUQxts1VwZ"
   },
   "source": [
    "## 4) 결측치 확인 및 데이터 전처리\n"
   ]
  },
  {
   "cell_type": "code",
   "execution_count": 10,
   "metadata": {
    "colab": {
     "base_uri": "https://localhost:8080/"
    },
    "id": "6YwFolq-1VwZ",
    "outputId": "55f4d221-7270-4afa-9a7a-856fdac8f1c8"
   },
   "outputs": [
    {
     "data": {
      "text/plain": [
       "title               0\n",
       "distributor         0\n",
       "genre               0\n",
       "release_time        0\n",
       "time                0\n",
       "screening_rat       0\n",
       "director            0\n",
       "dir_prev_bfnum    330\n",
       "dir_prev_num        0\n",
       "num_staff           0\n",
       "num_actor           0\n",
       "box_off_num         0\n",
       "dtype: int64"
      ]
     },
     "execution_count": 10,
     "metadata": {},
     "output_type": "execute_result"
    }
   ],
   "source": [
    "train.isna().sum()"
   ]
  },
  {
   "cell_type": "markdown",
   "metadata": {},
   "source": [
    "- dir_prev_bfnum 변수에 330개의 결측치 존재"
   ]
  },
  {
   "cell_type": "code",
   "execution_count": 11,
   "metadata": {
    "colab": {
     "base_uri": "https://localhost:8080/",
     "height": 142
    },
    "id": "8R9lKJtHAeOD",
    "outputId": "5bcdcab1-1036-4b34-ea18-cdfc5eee0205"
   },
   "outputs": [
    {
     "data": {
      "text/html": [
       "<div>\n",
       "<style scoped>\n",
       "    .dataframe tbody tr th:only-of-type {\n",
       "        vertical-align: middle;\n",
       "    }\n",
       "\n",
       "    .dataframe tbody tr th {\n",
       "        vertical-align: top;\n",
       "    }\n",
       "\n",
       "    .dataframe thead th {\n",
       "        text-align: right;\n",
       "    }\n",
       "</style>\n",
       "<table border=\"1\" class=\"dataframe\">\n",
       "  <thead>\n",
       "    <tr style=\"text-align: right;\">\n",
       "      <th></th>\n",
       "      <th>title</th>\n",
       "      <th>distributor</th>\n",
       "      <th>genre</th>\n",
       "      <th>release_time</th>\n",
       "      <th>time</th>\n",
       "      <th>screening_rat</th>\n",
       "      <th>director</th>\n",
       "      <th>dir_prev_bfnum</th>\n",
       "      <th>dir_prev_num</th>\n",
       "      <th>num_staff</th>\n",
       "      <th>num_actor</th>\n",
       "      <th>box_off_num</th>\n",
       "    </tr>\n",
       "  </thead>\n",
       "  <tbody>\n",
       "    <tr>\n",
       "      <th>0</th>\n",
       "      <td>개들의 전쟁</td>\n",
       "      <td>롯데엔터테인먼트</td>\n",
       "      <td>액션</td>\n",
       "      <td>2012-11-22</td>\n",
       "      <td>96</td>\n",
       "      <td>청소년 관람불가</td>\n",
       "      <td>조병옥</td>\n",
       "      <td>NaN</td>\n",
       "      <td>0</td>\n",
       "      <td>91</td>\n",
       "      <td>2</td>\n",
       "      <td>23398</td>\n",
       "    </tr>\n",
       "    <tr>\n",
       "      <th>6</th>\n",
       "      <td>길위에서</td>\n",
       "      <td>백두대간</td>\n",
       "      <td>다큐멘터리</td>\n",
       "      <td>2013-05-23</td>\n",
       "      <td>104</td>\n",
       "      <td>전체 관람가</td>\n",
       "      <td>이창재</td>\n",
       "      <td>NaN</td>\n",
       "      <td>0</td>\n",
       "      <td>32</td>\n",
       "      <td>5</td>\n",
       "      <td>53526</td>\n",
       "    </tr>\n",
       "    <tr>\n",
       "      <th>8</th>\n",
       "      <td>1789, 바스티유의 연인들</td>\n",
       "      <td>유니버설픽쳐스인터내셔널코리아</td>\n",
       "      <td>뮤지컬</td>\n",
       "      <td>2014-09-18</td>\n",
       "      <td>129</td>\n",
       "      <td>전체 관람가</td>\n",
       "      <td>정성복</td>\n",
       "      <td>NaN</td>\n",
       "      <td>0</td>\n",
       "      <td>3</td>\n",
       "      <td>5</td>\n",
       "      <td>4778</td>\n",
       "    </tr>\n",
       "  </tbody>\n",
       "</table>\n",
       "</div>"
      ],
      "text/plain": [
       "             title      distributor  genre release_time  time screening_rat  \\\n",
       "0           개들의 전쟁         롯데엔터테인먼트     액션   2012-11-22    96      청소년 관람불가   \n",
       "6             길위에서             백두대간  다큐멘터리   2013-05-23   104        전체 관람가   \n",
       "8  1789, 바스티유의 연인들  유니버설픽쳐스인터내셔널코리아    뮤지컬   2014-09-18   129        전체 관람가   \n",
       "\n",
       "  director  dir_prev_bfnum  dir_prev_num  num_staff  num_actor  box_off_num  \n",
       "0      조병옥             NaN             0         91          2        23398  \n",
       "6      이창재             NaN             0         32          5        53526  \n",
       "8      정성복             NaN             0          3          5         4778  "
      ]
     },
     "execution_count": 11,
     "metadata": {},
     "output_type": "execute_result"
    }
   ],
   "source": [
    "# 결측값의 특성 확인\n",
    "train[train['dir_prev_bfnum'].isna()].head(3)"
   ]
  },
  {
   "cell_type": "code",
   "execution_count": 12,
   "metadata": {
    "colab": {
     "base_uri": "https://localhost:8080/"
    },
    "id": "M2DJjeEWBVWK",
    "outputId": "46719617-c146-4c97-f857-48bdbf45784d"
   },
   "outputs": [
    {
     "name": "stdout",
     "output_type": "stream",
     "text": [
      "0\n"
     ]
    }
   ],
   "source": [
    "print(train[train['dir_prev_bfnum'].isna()]['dir_prev_num'].sum())"
   ]
  },
  {
   "cell_type": "markdown",
   "metadata": {
    "id": "BHrFk4trA_l2"
   },
   "source": [
    "- train의 dir_prev_bfnum 변수에 결측값으로 존재하는 데이터들은 전부 dir_prev_num이 0인 영화들이다. 즉, 감독의 이전작품이 존재 하지 않은 경우이다. 따라서 dir_prev_bfnum에 있는 결측값은 전부 0으로 채운다."
   ]
  },
  {
   "cell_type": "code",
   "execution_count": 38,
   "metadata": {
    "id": "-wu43ZeD1Vwf"
   },
   "outputs": [],
   "source": [
    "train['dir_prev_bfnum'].fillna(0, inplace=True)"
   ]
  },
  {
   "cell_type": "markdown",
   "metadata": {
    "id": "QrCfuKGcNcVY"
   },
   "source": [
    "- release_time은 시간에 관련된 데이터인데 int형으로 인식되고 있다. release_time을 datetime형식으로 변환한다."
   ]
  },
  {
   "cell_type": "code",
   "execution_count": 25,
   "metadata": {
    "id": "E9oimFGzNmOL"
   },
   "outputs": [],
   "source": [
    "train['release_time']=pd.to_datetime(train['release_time'])"
   ]
  },
  {
   "cell_type": "markdown",
   "metadata": {
    "id": "r7Hj7lkpCISW"
   },
   "source": [
    "## 5) 데이터 시각화 및 분석"
   ]
  },
  {
   "cell_type": "markdown",
   "metadata": {
    "id": "IFRIHmBaEC54"
   },
   "source": [
    "### 5-1) 월별, 분기별 가장 많이/적게 제작된 장르"
   ]
  },
  {
   "cell_type": "code",
   "execution_count": 26,
   "metadata": {},
   "outputs": [
    {
     "data": {
      "text/html": [
       "<div>\n",
       "<style scoped>\n",
       "    .dataframe tbody tr th:only-of-type {\n",
       "        vertical-align: middle;\n",
       "    }\n",
       "\n",
       "    .dataframe tbody tr th {\n",
       "        vertical-align: top;\n",
       "    }\n",
       "\n",
       "    .dataframe thead th {\n",
       "        text-align: right;\n",
       "    }\n",
       "</style>\n",
       "<table border=\"1\" class=\"dataframe\">\n",
       "  <thead>\n",
       "    <tr style=\"text-align: right;\">\n",
       "      <th></th>\n",
       "      <th></th>\n",
       "      <th>genre</th>\n",
       "    </tr>\n",
       "    <tr>\n",
       "      <th>release_quarter</th>\n",
       "      <th>release_month</th>\n",
       "      <th></th>\n",
       "    </tr>\n",
       "  </thead>\n",
       "  <tbody>\n",
       "    <tr>\n",
       "      <th rowspan=\"3\" valign=\"top\">1</th>\n",
       "      <th>1</th>\n",
       "      <td>코미디</td>\n",
       "    </tr>\n",
       "    <tr>\n",
       "      <th>2</th>\n",
       "      <td>코미디</td>\n",
       "    </tr>\n",
       "    <tr>\n",
       "      <th>3</th>\n",
       "      <td>코미디</td>\n",
       "    </tr>\n",
       "    <tr>\n",
       "      <th rowspan=\"3\" valign=\"top\">2</th>\n",
       "      <th>4</th>\n",
       "      <td>코미디</td>\n",
       "    </tr>\n",
       "    <tr>\n",
       "      <th>5</th>\n",
       "      <td>코미디</td>\n",
       "    </tr>\n",
       "    <tr>\n",
       "      <th>6</th>\n",
       "      <td>코미디</td>\n",
       "    </tr>\n",
       "    <tr>\n",
       "      <th rowspan=\"3\" valign=\"top\">3</th>\n",
       "      <th>7</th>\n",
       "      <td>코미디</td>\n",
       "    </tr>\n",
       "    <tr>\n",
       "      <th>8</th>\n",
       "      <td>코미디</td>\n",
       "    </tr>\n",
       "    <tr>\n",
       "      <th>9</th>\n",
       "      <td>코미디</td>\n",
       "    </tr>\n",
       "    <tr>\n",
       "      <th rowspan=\"3\" valign=\"top\">4</th>\n",
       "      <th>10</th>\n",
       "      <td>코미디</td>\n",
       "    </tr>\n",
       "    <tr>\n",
       "      <th>11</th>\n",
       "      <td>코미디</td>\n",
       "    </tr>\n",
       "    <tr>\n",
       "      <th>12</th>\n",
       "      <td>코미디</td>\n",
       "    </tr>\n",
       "  </tbody>\n",
       "</table>\n",
       "</div>"
      ],
      "text/plain": [
       "                              genre\n",
       "release_quarter release_month      \n",
       "1               1               코미디\n",
       "                2               코미디\n",
       "                3               코미디\n",
       "2               4               코미디\n",
       "                5               코미디\n",
       "                6               코미디\n",
       "3               7               코미디\n",
       "                8               코미디\n",
       "                9               코미디\n",
       "4               10              코미디\n",
       "                11              코미디\n",
       "                12              코미디"
      ]
     },
     "execution_count": 26,
     "metadata": {},
     "output_type": "execute_result"
    }
   ],
   "source": [
    "# 년도, 월, 일, 요일 별 칼럼 따로 만들기\n",
    "train['release_year']=train['release_time'].dt.year   #년도\n",
    "train['release_quarter']=train['release_time'].dt.quarter # 분기\n",
    "train['release_month']=train['release_time'].dt.month   #월\n",
    "train['release_day']=train['release_time'].dt.day     #일\n",
    "train['release_weekday']=train['release_time'].dt.weekday   #요일\n",
    "\n",
    "train_group_mx = train.groupby(['release_quarter','release_month'])[['genre']].max()\n",
    "train_group_mx"
   ]
  },
  {
   "cell_type": "code",
   "execution_count": 27,
   "metadata": {},
   "outputs": [
    {
     "data": {
      "text/html": [
       "<div>\n",
       "<style scoped>\n",
       "    .dataframe tbody tr th:only-of-type {\n",
       "        vertical-align: middle;\n",
       "    }\n",
       "\n",
       "    .dataframe tbody tr th {\n",
       "        vertical-align: top;\n",
       "    }\n",
       "\n",
       "    .dataframe thead th {\n",
       "        text-align: right;\n",
       "    }\n",
       "</style>\n",
       "<table border=\"1\" class=\"dataframe\">\n",
       "  <thead>\n",
       "    <tr style=\"text-align: right;\">\n",
       "      <th></th>\n",
       "      <th></th>\n",
       "      <th>genre</th>\n",
       "    </tr>\n",
       "    <tr>\n",
       "      <th>release_quarter</th>\n",
       "      <th>release_month</th>\n",
       "      <th></th>\n",
       "    </tr>\n",
       "  </thead>\n",
       "  <tbody>\n",
       "    <tr>\n",
       "      <th rowspan=\"3\" valign=\"top\">1</th>\n",
       "      <th>1</th>\n",
       "      <td>공포</td>\n",
       "    </tr>\n",
       "    <tr>\n",
       "      <th>2</th>\n",
       "      <td>SF</td>\n",
       "    </tr>\n",
       "    <tr>\n",
       "      <th>3</th>\n",
       "      <td>SF</td>\n",
       "    </tr>\n",
       "    <tr>\n",
       "      <th rowspan=\"3\" valign=\"top\">2</th>\n",
       "      <th>4</th>\n",
       "      <td>공포</td>\n",
       "    </tr>\n",
       "    <tr>\n",
       "      <th>5</th>\n",
       "      <td>공포</td>\n",
       "    </tr>\n",
       "    <tr>\n",
       "      <th>6</th>\n",
       "      <td>공포</td>\n",
       "    </tr>\n",
       "    <tr>\n",
       "      <th rowspan=\"3\" valign=\"top\">3</th>\n",
       "      <th>7</th>\n",
       "      <td>SF</td>\n",
       "    </tr>\n",
       "    <tr>\n",
       "      <th>8</th>\n",
       "      <td>SF</td>\n",
       "    </tr>\n",
       "    <tr>\n",
       "      <th>9</th>\n",
       "      <td>공포</td>\n",
       "    </tr>\n",
       "    <tr>\n",
       "      <th rowspan=\"3\" valign=\"top\">4</th>\n",
       "      <th>10</th>\n",
       "      <td>공포</td>\n",
       "    </tr>\n",
       "    <tr>\n",
       "      <th>11</th>\n",
       "      <td>SF</td>\n",
       "    </tr>\n",
       "    <tr>\n",
       "      <th>12</th>\n",
       "      <td>SF</td>\n",
       "    </tr>\n",
       "  </tbody>\n",
       "</table>\n",
       "</div>"
      ],
      "text/plain": [
       "                              genre\n",
       "release_quarter release_month      \n",
       "1               1                공포\n",
       "                2                SF\n",
       "                3                SF\n",
       "2               4                공포\n",
       "                5                공포\n",
       "                6                공포\n",
       "3               7                SF\n",
       "                8                SF\n",
       "                9                공포\n",
       "4               10               공포\n",
       "                11               SF\n",
       "                12               SF"
      ]
     },
     "execution_count": 27,
     "metadata": {},
     "output_type": "execute_result"
    }
   ],
   "source": [
    "train_group_mn = train.groupby(['release_quarter','release_month'])[['genre']].min()\n",
    "train_group_mn"
   ]
  },
  {
   "cell_type": "markdown",
   "metadata": {},
   "source": [
    "- 월별, 분기별 무관하게 가장 많이 제작된 장르는 '코미디', 가장 적게 제작된 장르는 'SF'와 '공포'이다. 흥행을 위해 관객의 예상 선호도를 고려하여 제작되는 영화 특성상 '코미디'가 가장 무난하게 인기가 높다고 할 수 있다. 가장 적게 제작된 'SF', '공포' 장르는 호불호로 인해 제작되는 수가 많지 않음을 미루어 짐작할 수 있다.(사견)"
   ]
  },
  {
   "cell_type": "markdown",
   "metadata": {
    "id": "c3SSMWGGKnny"
   },
   "source": [
    "### 5-2) 개봉 요일과 평균 관객 수의 관계"
   ]
  },
  {
   "cell_type": "code",
   "execution_count": 28,
   "metadata": {},
   "outputs": [
    {
     "data": {
      "text/html": [
       "<div>\n",
       "<style scoped>\n",
       "    .dataframe tbody tr th:only-of-type {\n",
       "        vertical-align: middle;\n",
       "    }\n",
       "\n",
       "    .dataframe tbody tr th {\n",
       "        vertical-align: top;\n",
       "    }\n",
       "\n",
       "    .dataframe thead th {\n",
       "        text-align: right;\n",
       "    }\n",
       "</style>\n",
       "<table border=\"1\" class=\"dataframe\">\n",
       "  <thead>\n",
       "    <tr style=\"text-align: right;\">\n",
       "      <th></th>\n",
       "      <th>box_off_num</th>\n",
       "    </tr>\n",
       "    <tr>\n",
       "      <th>Day</th>\n",
       "      <th></th>\n",
       "    </tr>\n",
       "  </thead>\n",
       "  <tbody>\n",
       "    <tr>\n",
       "      <th>화요일</th>\n",
       "      <td>2591569.0</td>\n",
       "    </tr>\n",
       "    <tr>\n",
       "      <th>수요일</th>\n",
       "      <td>2237699.1</td>\n",
       "    </tr>\n",
       "    <tr>\n",
       "      <th>목요일</th>\n",
       "      <td>372299.0</td>\n",
       "    </tr>\n",
       "    <tr>\n",
       "      <th>금요일</th>\n",
       "      <td>48651.0</td>\n",
       "    </tr>\n",
       "    <tr>\n",
       "      <th>월요일</th>\n",
       "      <td>434.0</td>\n",
       "    </tr>\n",
       "    <tr>\n",
       "      <th>토요일</th>\n",
       "      <td>353.0</td>\n",
       "    </tr>\n",
       "  </tbody>\n",
       "</table>\n",
       "</div>"
      ],
      "text/plain": [
       "     box_off_num\n",
       "Day             \n",
       "화요일    2591569.0\n",
       "수요일    2237699.1\n",
       "목요일     372299.0\n",
       "금요일      48651.0\n",
       "월요일        434.0\n",
       "토요일        353.0"
      ]
     },
     "execution_count": 28,
     "metadata": {},
     "output_type": "execute_result"
    }
   ],
   "source": [
    "# 요일 변환 함수 \n",
    "num_to_day = {\n",
    "    0 : '월요일',\n",
    "    1 : '화요일',\n",
    "    2 : '수요일',\n",
    "    3 : '목요일',\n",
    "    4 : '금요일',\n",
    "    5 : '토요일',\n",
    "    6 : '일요일',\n",
    "}\n",
    "\n",
    "train['Day'] = [num_to_day[k] for k in train['release_weekday']] # 요일 그룹 열에 추가\n",
    "train[['Day','box_off_num']].groupby('Day').mean().sort_values('box_off_num', ascending=False)"
   ]
  },
  {
   "cell_type": "code",
   "execution_count": 30,
   "metadata": {},
   "outputs": [
    {
     "data": {
      "text/plain": [
       "<AxesSubplot:xlabel='Day'>"
      ]
     },
     "execution_count": 30,
     "metadata": {},
     "output_type": "execute_result"
    },
    {
     "data": {
      "image/png": "[encoded data removed]",
      "text/plain": [
       "<Figure size 432x288 with 1 Axes>"
      ]
     },
     "metadata": {
      "needs_background": "light"
     },
     "output_type": "display_data"
    }
   ],
   "source": [
    "train[['Day','box_off_num']].groupby('Day').mean().sort_values('box_off_num', ascending=False).plot(kind='bar')"
   ]
  },
  {
   "cell_type": "code",
   "execution_count": 29,
   "metadata": {},
   "outputs": [
    {
     "data": {
      "image/png": "[encoded data removed]",
      "text/plain": [
       "<Figure size 432x288 with 1 Axes>"
      ]
     },
     "metadata": {
      "needs_background": "light"
     },
     "output_type": "display_data"
    }
   ],
   "source": [
    "ax = plt.subplots()\n",
    "ax = sns.boxplot(x='Day', y='box_off_num', data=train)"
   ]
  },
  {
   "cell_type": "markdown",
   "metadata": {},
   "source": [
    "- barplot은 개봉 요일 별로 평균 관객 수가 많은 순서로 정렬되어 있다. boxplot을 통해 요일별 평균 관객 수를 보았을 때 화요일에 개봉한 영화의 평균 관객 수가 가장 많고, 토요일에 개봉한 영화의 평균 관객 수가 가장 적은 것을 알 수 있다. 데이터상에서 일요일은 집계되지 않았다."
   ]
  },
  {
   "cell_type": "markdown",
   "metadata": {
    "id": "InNpHFcVS3E3"
   },
   "source": [
    "### 5-3) 감독의 전 영화 개수와 현재 상영 영화 평균 관객 수의 관계"
   ]
  },
  {
   "cell_type": "code",
   "execution_count": 31,
   "metadata": {},
   "outputs": [
    {
     "data": {
      "image/png": "[encoded data removed]",
      "text/plain": [
       "<Figure size 432x288 with 1 Axes>"
      ]
     },
     "metadata": {
      "needs_background": "light"
     },
     "output_type": "display_data"
    }
   ],
   "source": [
    "ax = plt.subplots()\n",
    "ax = sns.barplot(x='dir_prev_num', y='box_off_num', data=train)"
   ]
  },
  {
   "cell_type": "markdown",
   "metadata": {},
   "source": [
    "- 감독의 전 영화 개수가 가장 적을 때 평균 관객 수와 감독의 전 영화 개수가 가장 많을 때의 평균 관객 수가 비슷해보이므로 감독의 전 영화 개수와 현재 상영 영화의 평균 관객 수는 유의미한 관계가 없다."
   ]
  },
  {
   "cell_type": "markdown",
   "metadata": {},
   "source": [
    "### 5-4) 감독의 전 영화 평균 관객 수가 현재 상영 영화의 관객 수에 미치는 영향"
   ]
  },
  {
   "cell_type": "code",
   "execution_count": 32,
   "metadata": {},
   "outputs": [
    {
     "data": {
      "text/plain": [
       "<AxesSubplot:xlabel='dir_prev_bfnum', ylabel='box_off_num'>"
      ]
     },
     "execution_count": 32,
     "metadata": {},
     "output_type": "execute_result"
    },
    {
     "data": {
      "text/plain": [
       "<Figure size 1440x1080 with 0 Axes>"
      ]
     },
     "metadata": {},
     "output_type": "display_data"
    },
    {
     "data": {
      "image/png": "[encoded data removed]",
      "text/plain": [
       "<Figure size 432x288 with 1 Axes>"
      ]
     },
     "metadata": {
      "needs_background": "light"
     },
     "output_type": "display_data"
    }
   ],
   "source": [
    "plt.figure(figsize=(20,15))\n",
    "plt.subplots()\n",
    "sns.scatterplot(x='dir_prev_bfnum', y='box_off_num', data=train)"
   ]
  },
  {
   "cell_type": "markdown",
   "metadata": {},
   "source": [
    "- 감독의 전 영화의 평균 관객 수가 현재 상영 영화의 관객 수에 미치는 영향은 미미하다고 볼 수 있다."
   ]
  },
  {
   "cell_type": "markdown",
   "metadata": {},
   "source": [
    "### 5-5) 평균 관객 수 top 10 장르의 배급사"
   ]
  },
  {
   "cell_type": "code",
   "execution_count": 34,
   "metadata": {},
   "outputs": [
    {
     "data": {
      "text/html": [
       "<div>\n",
       "<style scoped>\n",
       "    .dataframe tbody tr th:only-of-type {\n",
       "        vertical-align: middle;\n",
       "    }\n",
       "\n",
       "    .dataframe tbody tr th {\n",
       "        vertical-align: top;\n",
       "    }\n",
       "\n",
       "    .dataframe thead th {\n",
       "        text-align: right;\n",
       "    }\n",
       "</style>\n",
       "<table border=\"1\" class=\"dataframe\">\n",
       "  <thead>\n",
       "    <tr style=\"text-align: right;\">\n",
       "      <th></th>\n",
       "      <th>box_off_num</th>\n",
       "    </tr>\n",
       "    <tr>\n",
       "      <th>distributor</th>\n",
       "      <th></th>\n",
       "    </tr>\n",
       "  </thead>\n",
       "  <tbody>\n",
       "    <tr>\n",
       "      <th>CJ E&amp;M Pictures</th>\n",
       "      <td>4122337.0</td>\n",
       "    </tr>\n",
       "    <tr>\n",
       "      <th>(주)쇼박스</th>\n",
       "      <td>3386656.3</td>\n",
       "    </tr>\n",
       "    <tr>\n",
       "      <th>(주)아이필름코퍼레이션</th>\n",
       "      <td>3117859.0</td>\n",
       "    </tr>\n",
       "    <tr>\n",
       "      <th>쇼박스(주)미디어플렉스</th>\n",
       "      <td>2634823.0</td>\n",
       "    </tr>\n",
       "    <tr>\n",
       "      <th>영구아트무비</th>\n",
       "      <td>2541603.0</td>\n",
       "    </tr>\n",
       "    <tr>\n",
       "      <th>CJ E&amp;M 영화부문</th>\n",
       "      <td>2505309.3</td>\n",
       "    </tr>\n",
       "    <tr>\n",
       "      <th>(주)NEW</th>\n",
       "      <td>2184404.8</td>\n",
       "    </tr>\n",
       "    <tr>\n",
       "      <th>CJ 엔터테인먼트</th>\n",
       "      <td>2162742.5</td>\n",
       "    </tr>\n",
       "    <tr>\n",
       "      <th>이십세기폭스코리아(주)</th>\n",
       "      <td>1637046.0</td>\n",
       "    </tr>\n",
       "    <tr>\n",
       "      <th>SK텔레콤(주)</th>\n",
       "      <td>1383867.0</td>\n",
       "    </tr>\n",
       "  </tbody>\n",
       "</table>\n",
       "</div>"
      ],
      "text/plain": [
       "                 box_off_num\n",
       "distributor                 \n",
       "CJ E&M Pictures    4122337.0\n",
       "(주)쇼박스             3386656.3\n",
       "(주)아이필름코퍼레이션       3117859.0\n",
       "쇼박스(주)미디어플렉스       2634823.0\n",
       "영구아트무비             2541603.0\n",
       "CJ E&M 영화부문        2505309.3\n",
       "(주)NEW             2184404.8\n",
       "CJ 엔터테인먼트          2162742.5\n",
       "이십세기폭스코리아(주)       1637046.0\n",
       "SK텔레콤(주)           1383867.0"
      ]
     },
     "execution_count": 34,
     "metadata": {},
     "output_type": "execute_result"
    }
   ],
   "source": [
    "train_top5 = train[['distributor','box_off_num']].groupby('distributor').mean().sort_values('box_off_num', ascending=False).head(10)\n",
    "train_top5"
   ]
  },
  {
   "cell_type": "code",
   "execution_count": 35,
   "metadata": {},
   "outputs": [
    {
     "data": {
      "text/plain": [
       "<AxesSubplot:xlabel='distributor'>"
      ]
     },
     "execution_count": 35,
     "metadata": {},
     "output_type": "execute_result"
    },
    {
     "data": {
      "image/png": "[encoded data removed]",
      "text/plain": [
       "<Figure size 432x288 with 1 Axes>"
      ]
     },
     "metadata": {
      "needs_background": "light"
     },
     "output_type": "display_data"
    }
   ],
   "source": [
    "train_top5.plot(kind='bar')"
   ]
  },
  {
   "cell_type": "markdown",
   "metadata": {},
   "source": [
    "- 평균 관객 수 기준 배급사 top 10은 CJ E&M Pictures를 선두로 (주)쇼박스, (주)아이필름코퍼레이션 등이다. CJ E&M Pictures를 > (주)쇼박스 > (주)아이필름코퍼레이션 > 쇼박스(주)미디어플렉스 > 영구아트무비 > CJ E&M 영화부문 > (주) NEW > CJ 엔터테인먼트 > 이십세기폭스코리아(주) > SK텔레콤(주) 순서로, 1위인 CJ E&M Pictures 는 8위인 CJ 엔터테인먼트보다 약 2배의 평균 관객 수를 보유하고 있다."
   ]
  },
  {
   "cell_type": "markdown",
   "metadata": {},
   "source": [
    "### 5-6) 영화 제목 길이와 관객 수의 상관관계"
   ]
  },
  {
   "cell_type": "code",
   "execution_count": 36,
   "metadata": {},
   "outputs": [
    {
     "data": {
      "text/plain": [
       "<AxesSubplot:xlabel='title_len'>"
      ]
     },
     "execution_count": 36,
     "metadata": {},
     "output_type": "execute_result"
    },
    {
     "data": {
      "image/png": "[encoded data removed]",
      "text/plain": [
       "<Figure size 432x288 with 1 Axes>"
      ]
     },
     "metadata": {
      "needs_background": "light"
     },
     "output_type": "display_data"
    }
   ],
   "source": [
    "train['title_len'] = train['title'].str.len() # 제목 길이 변수\n",
    "\n",
    "train[['title_len','box_off_num']].groupby('title_len').mean().sort_values('box_off_num', ascending=False).plot(kind='bar')"
   ]
  },
  {
   "cell_type": "code",
   "execution_count": 37,
   "metadata": {},
   "outputs": [
    {
     "data": {
      "image/png": "[encoded data removed]",
      "text/plain": [
       "<Figure size 360x360 with 1 Axes>"
      ]
     },
     "metadata": {
      "needs_background": "light"
     },
     "output_type": "display_data"
    }
   ],
   "source": [
    "scatter = sns.lmplot(x='box_off_num', y='title_len', data=train, fit_reg = False) "
   ]
  },
  {
   "cell_type": "markdown",
   "metadata": {},
   "source": [
    "- 영화 제목의 길이와 평균 관객 수 간에는 큰 상관관계가 보이지 않지만 그래프를 보아 비교적 많은 평균 관객을 확보한 영화들은 세 글자인 경향이 높다고 할 수 있다."
   ]
  }
 ],
 "metadata": {
  "colab": {
   "collapsed_sections": [],
   "name": "미니 프로젝트1_train.ipynb",
   "provenance": []
  },
  "kernelspec": {
   "display_name": "Python 3",
   "language": "python",
   "name": "python3"
  },
  "language_info": {
   "codemirror_mode": {
    "name": "ipython",
    "version": 3
   },
   "file_extension": ".py",
   "mimetype": "text/x-python",
   "name": "python",
   "nbconvert_exporter": "python",
   "pygments_lexer": "ipython3",
   "version": "3.8.8"
  }
 },
 "nbformat": 4,
 "nbformat_minor": 1
}
